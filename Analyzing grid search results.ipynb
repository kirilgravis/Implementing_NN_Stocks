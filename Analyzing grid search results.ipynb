{
 "cells": [
  {
   "cell_type": "markdown",
   "id": "f609cb27-6ffa-45d1-b612-b8ec42703d51",
   "metadata": {},
   "source": [
    "# Imports"
   ]
  },
  {
   "cell_type": "code",
   "execution_count": 2,
   "id": "ed0ed25d-1c47-45cb-9f96-da509469f5bf",
   "metadata": {},
   "outputs": [],
   "source": [
    "import pandas as pd\n",
    "import numpy as np\n",
    "import pickle\n",
    "import matplotlib.pyplot as plt\n",
    "from statistics import mean\n",
    "plt.rcParams['figure.figsize'] = [18, 12]"
   ]
  },
  {
   "cell_type": "markdown",
   "id": "c47b44a7-c745-4698-bac5-b421a9e18ef4",
   "metadata": {},
   "source": [
    "# Functions"
   ]
  },
  {
   "cell_type": "markdown",
   "id": "a3a4abd8-c74c-47ee-9ecb-a107e643378e",
   "metadata": {
    "tags": []
   },
   "source": [
    "## Function for plotting y and y_hat"
   ]
  },
  {
   "cell_type": "code",
   "execution_count": 21,
   "id": "7ba1768f-5a94-4396-b63a-31e6a97dbd38",
   "metadata": {},
   "outputs": [],
   "source": [
    "def plot_y_hat_y_real(hat, real):\n",
    "    fig = plt.figure()\n",
    "    ax = fig.add_subplot(1, 1, 1)\n",
    "\n",
    "    # Major ticks every 20, minor ticks every 5\n",
    "    major_ticks = np.arange(0, len(real), 1)\n",
    "    # minor_ticks = np.arange(0, 1, 0.01)\n",
    "    y_ticks = np.arange(min(real), 1, 0.01)\n",
    "\n",
    "    ax.set_xticks(major_ticks)\n",
    "    # ax.set_xticks(minor_ticks, minor=True)\n",
    "    ax.set_yticks(y_ticks)\n",
    "    # ax.set_yticks(minor_ticks, minor=True)\n",
    "\n",
    "    # And a corresponding grid\n",
    "    ax.grid(which='both')\n",
    "\n",
    "    # Or if you want different settings for the grids:\n",
    "    # ax.grid(which='minor', alpha=0.5)\n",
    "    ax.grid(which='major', alpha=0.8)\n",
    "    \n",
    "    plt.plot(hat,'ro', label='y_hat',markersize=3)\n",
    "    plt.plot(real, 'g*', label='y_real',markersize=3)\n",
    "    \n",
    "    plt.plot([0, len(real)],[0,0], color='black', lw=1)\n",
    "    \n",
    "    plt.show()"
   ]
  },
  {
   "cell_type": "code",
   "execution_count": null,
   "id": "17287806-3783-482d-b350-0d7b030d1cd5",
   "metadata": {},
   "outputs": [],
   "source": []
  },
  {
   "cell_type": "code",
   "execution_count": null,
   "id": "004d0e4d-5ae8-497c-9def-525da4d9672a",
   "metadata": {},
   "outputs": [],
   "source": []
  },
  {
   "cell_type": "code",
   "execution_count": null,
   "id": "2eefb58a-ac43-4931-b10a-fbfeaba915d2",
   "metadata": {},
   "outputs": [],
   "source": []
  },
  {
   "cell_type": "code",
   "execution_count": null,
   "id": "dad888be-d8c5-4fc4-bfdf-d3f1e28220b7",
   "metadata": {},
   "outputs": [],
   "source": []
  },
  {
   "cell_type": "code",
   "execution_count": null,
   "id": "d79eb522-c5ed-4e19-b9b9-2dd00c8305fc",
   "metadata": {},
   "outputs": [],
   "source": []
  },
  {
   "cell_type": "markdown",
   "id": "f50118ec-c1ac-4006-be3c-6ad5f2eb48ca",
   "metadata": {},
   "source": [
    "# Fake data"
   ]
  },
  {
   "cell_type": "markdown",
   "id": "17715708-cfb3-4a21-ab57-597eae954f2e",
   "metadata": {
    "tags": []
   },
   "source": [
    "## Overfited - 4 different nets"
   ]
  },
  {
   "cell_type": "markdown",
   "id": "bc40ee41-cb20-452b-96ee-5be8b4683daa",
   "metadata": {
    "jp-MarkdownHeadingCollapsed": true,
    "tags": []
   },
   "source": [
    "### Open"
   ]
  },
  {
   "cell_type": "code",
   "execution_count": 14,
   "id": "965e6f50-7ff6-42dc-bfd6-e4848e73c8e6",
   "metadata": {},
   "outputs": [],
   "source": [
    "with open('fake_data_overfit.pickle', 'rb') as handle:\n",
    "    result = pickle.load(handle)"
   ]
  },
  {
   "cell_type": "code",
   "execution_count": 15,
   "id": "545d324c-1401-4a9e-a434-e6a6e886316a",
   "metadata": {},
   "outputs": [],
   "source": [
    "result.reset_index(inplace=True)"
   ]
  },
  {
   "cell_type": "code",
   "execution_count": 16,
   "id": "7646f171-ed79-4b71-84df-301161d607c5",
   "metadata": {},
   "outputs": [
    {
     "data": {
      "text/html": [
       "<div>\n",
       "<style scoped>\n",
       "    .dataframe tbody tr th:only-of-type {\n",
       "        vertical-align: middle;\n",
       "    }\n",
       "\n",
       "    .dataframe tbody tr th {\n",
       "        vertical-align: top;\n",
       "    }\n",
       "\n",
       "    .dataframe thead th {\n",
       "        text-align: right;\n",
       "    }\n",
       "</style>\n",
       "<table border=\"1\" class=\"dataframe\">\n",
       "  <thead>\n",
       "    <tr style=\"text-align: right;\">\n",
       "      <th></th>\n",
       "      <th>index</th>\n",
       "      <th>num_epochs</th>\n",
       "      <th>learning_rates</th>\n",
       "      <th>input_size</th>\n",
       "      <th>hidden_size</th>\n",
       "      <th>fc_layer_size</th>\n",
       "      <th>losses_train</th>\n",
       "      <th>losses_val</th>\n",
       "      <th>train_y_real</th>\n",
       "      <th>train_y_hat</th>\n",
       "      <th>test_y_hat</th>\n",
       "      <th>test_y_real</th>\n",
       "    </tr>\n",
       "  </thead>\n",
       "  <tbody>\n",
       "    <tr>\n",
       "      <th>0</th>\n",
       "      <td>0</td>\n",
       "      <td>300</td>\n",
       "      <td>0.001</td>\n",
       "      <td>60</td>\n",
       "      <td>8</td>\n",
       "      <td>8</td>\n",
       "      <td>[836.5452453613282, 796.1788600376674, 734.622...</td>\n",
       "      <td>[855.7819519042969, 799.3837415907118, 722.602...</td>\n",
       "      <td>[-31.37710952758789, -32.2651481628418, -29.76...</td>\n",
       "      <td>[-31.239484786987305, -32.126277923583984, -29...</td>\n",
       "      <td>[-30.242305755615234, -29.634536743164062, -28...</td>\n",
       "      <td>[-29.2078857421875, -26.24937629699707, -29.99...</td>\n",
       "    </tr>\n",
       "    <tr>\n",
       "      <th>1</th>\n",
       "      <td>0</td>\n",
       "      <td>300</td>\n",
       "      <td>0.001</td>\n",
       "      <td>60</td>\n",
       "      <td>8</td>\n",
       "      <td>64</td>\n",
       "      <td>[844.6887154715401, 677.5739541190011, 296.628...</td>\n",
       "      <td>[834.9215562608507, 522.9233907063802, 139.812...</td>\n",
       "      <td>[-31.37710952758789, -32.2651481628418, -29.76...</td>\n",
       "      <td>[-31.89274024963379, -32.14913558959961, -30.1...</td>\n",
       "      <td>[-30.79401206970215, -28.30344009399414, -30.9...</td>\n",
       "      <td>[-29.2078857421875, -26.24937629699707, -29.99...</td>\n",
       "    </tr>\n",
       "    <tr>\n",
       "      <th>2</th>\n",
       "      <td>0</td>\n",
       "      <td>300</td>\n",
       "      <td>0.001</td>\n",
       "      <td>60</td>\n",
       "      <td>64</td>\n",
       "      <td>8</td>\n",
       "      <td>[822.471142578125, 655.7645555768694, 474.6818...</td>\n",
       "      <td>[780.2558237711588, 591.8375820583767, 407.197...</td>\n",
       "      <td>[-31.37710952758789, -32.2651481628418, -29.76...</td>\n",
       "      <td>[-31.686750411987305, -32.09550857543945, -29....</td>\n",
       "      <td>[-30.174057006835938, -28.213401794433594, -30...</td>\n",
       "      <td>[-29.2078857421875, -26.24937629699707, -29.99...</td>\n",
       "    </tr>\n",
       "    <tr>\n",
       "      <th>3</th>\n",
       "      <td>0</td>\n",
       "      <td>300</td>\n",
       "      <td>0.001</td>\n",
       "      <td>60</td>\n",
       "      <td>64</td>\n",
       "      <td>64</td>\n",
       "      <td>[620.1121488298688, 41.09711304674191, 4.76758...</td>\n",
       "      <td>[217.22574064466687, 5.2187168738390834, 5.732...</td>\n",
       "      <td>[-31.37710952758789, -32.2651481628418, -29.76...</td>\n",
       "      <td>[-30.739700317382812, -32.27229690551758, -29....</td>\n",
       "      <td>[-32.05950164794922, -26.95046043395996, -29.2...</td>\n",
       "      <td>[-29.2078857421875, -26.24937629699707, -29.99...</td>\n",
       "    </tr>\n",
       "  </tbody>\n",
       "</table>\n",
       "</div>"
      ],
      "text/plain": [
       "   index num_epochs  learning_rates input_size hidden_size fc_layer_size  \\\n",
       "0      0        300           0.001         60           8             8   \n",
       "1      0        300           0.001         60           8            64   \n",
       "2      0        300           0.001         60          64             8   \n",
       "3      0        300           0.001         60          64            64   \n",
       "\n",
       "                                        losses_train  \\\n",
       "0  [836.5452453613282, 796.1788600376674, 734.622...   \n",
       "1  [844.6887154715401, 677.5739541190011, 296.628...   \n",
       "2  [822.471142578125, 655.7645555768694, 474.6818...   \n",
       "3  [620.1121488298688, 41.09711304674191, 4.76758...   \n",
       "\n",
       "                                          losses_val  \\\n",
       "0  [855.7819519042969, 799.3837415907118, 722.602...   \n",
       "1  [834.9215562608507, 522.9233907063802, 139.812...   \n",
       "2  [780.2558237711588, 591.8375820583767, 407.197...   \n",
       "3  [217.22574064466687, 5.2187168738390834, 5.732...   \n",
       "\n",
       "                                        train_y_real  \\\n",
       "0  [-31.37710952758789, -32.2651481628418, -29.76...   \n",
       "1  [-31.37710952758789, -32.2651481628418, -29.76...   \n",
       "2  [-31.37710952758789, -32.2651481628418, -29.76...   \n",
       "3  [-31.37710952758789, -32.2651481628418, -29.76...   \n",
       "\n",
       "                                         train_y_hat  \\\n",
       "0  [-31.239484786987305, -32.126277923583984, -29...   \n",
       "1  [-31.89274024963379, -32.14913558959961, -30.1...   \n",
       "2  [-31.686750411987305, -32.09550857543945, -29....   \n",
       "3  [-30.739700317382812, -32.27229690551758, -29....   \n",
       "\n",
       "                                          test_y_hat  \\\n",
       "0  [-30.242305755615234, -29.634536743164062, -28...   \n",
       "1  [-30.79401206970215, -28.30344009399414, -30.9...   \n",
       "2  [-30.174057006835938, -28.213401794433594, -30...   \n",
       "3  [-32.05950164794922, -26.95046043395996, -29.2...   \n",
       "\n",
       "                                         test_y_real  \n",
       "0  [-29.2078857421875, -26.24937629699707, -29.99...  \n",
       "1  [-29.2078857421875, -26.24937629699707, -29.99...  \n",
       "2  [-29.2078857421875, -26.24937629699707, -29.99...  \n",
       "3  [-29.2078857421875, -26.24937629699707, -29.99...  "
      ]
     },
     "execution_count": 16,
     "metadata": {},
     "output_type": "execute_result"
    }
   ],
   "source": [
    "result.head()"
   ]
  },
  {
   "cell_type": "markdown",
   "id": "e8ba8fa3-e591-4d41-88ec-14398f7c2b77",
   "metadata": {
    "jp-MarkdownHeadingCollapsed": true,
    "tags": []
   },
   "source": [
    "### Mean loss"
   ]
  },
  {
   "cell_type": "code",
   "execution_count": 27,
   "id": "7a0252d0-7349-4695-bb82-e9dfef92560e",
   "metadata": {},
   "outputs": [],
   "source": [
    "result['mean_train_loss'] = result['losses_train'].apply(mean)\n",
    "result['mean_validation_loss'] = result['losses_val'].apply(mean)"
   ]
  },
  {
   "cell_type": "code",
   "execution_count": 12,
   "id": "e21d0f20-01b6-41a3-b881-d80c0d99f31f",
   "metadata": {},
   "outputs": [
    {
     "data": {
      "text/plain": [
       "<AxesSubplot:>"
      ]
     },
     "execution_count": 12,
     "metadata": {},
     "output_type": "execute_result"
    },
    {
     "data": {
      "image/png": "[encoded data removed]",
      "text/plain": [
       "<Figure size 1296x864 with 1 Axes>"
      ]
     },
     "metadata": {
      "needs_background": "light"
     },
     "output_type": "display_data"
    }
   ],
   "source": [
    "result[['mean_train_loss','mean_validation_loss']].plot()"
   ]
  },
  {
   "cell_type": "code",
   "execution_count": 8,
   "id": "f0151650-3ed3-4457-b7c3-9795413c3442",
   "metadata": {},
   "outputs": [],
   "source": [
    "# result['mean_train_loss'].hist(bins=81)"
   ]
  },
  {
   "cell_type": "code",
   "execution_count": 9,
   "id": "3bae1f37-08cc-429c-ba75-7330ea8e817e",
   "metadata": {},
   "outputs": [],
   "source": [
    "# result['mean_validation_loss'].hist(bins=81)"
   ]
  },
  {
   "cell_type": "code",
   "execution_count": 10,
   "id": "3c8cc952-55af-477e-b456-b36622ac9f98",
   "metadata": {},
   "outputs": [],
   "source": [
    "# result[result['mean_validation_loss']<0.00379]"
   ]
  },
  {
   "cell_type": "markdown",
   "id": "5db5aaaf-5218-40dc-9770-58c824a8669b",
   "metadata": {
    "jp-MarkdownHeadingCollapsed": true,
    "tags": []
   },
   "source": [
    "### Plot test y_hat and test y_real"
   ]
  },
  {
   "cell_type": "code",
   "execution_count": 18,
   "id": "99c8db8c-6521-4ec4-818f-058a237b973b",
   "metadata": {},
   "outputs": [
    {
     "data": {
      "text/html": [
       "<div>\n",
       "<style scoped>\n",
       "    .dataframe tbody tr th:only-of-type {\n",
       "        vertical-align: middle;\n",
       "    }\n",
       "\n",
       "    .dataframe tbody tr th {\n",
       "        vertical-align: top;\n",
       "    }\n",
       "\n",
       "    .dataframe thead th {\n",
       "        text-align: right;\n",
       "    }\n",
       "</style>\n",
       "<table border=\"1\" class=\"dataframe\">\n",
       "  <thead>\n",
       "    <tr style=\"text-align: right;\">\n",
       "      <th></th>\n",
       "      <th>level_0</th>\n",
       "      <th>index</th>\n",
       "      <th>num_epochs</th>\n",
       "      <th>learning_rates</th>\n",
       "      <th>input_size</th>\n",
       "      <th>hidden_size</th>\n",
       "      <th>fc_layer_size</th>\n",
       "      <th>losses_train</th>\n",
       "      <th>losses_val</th>\n",
       "      <th>train_y_real</th>\n",
       "      <th>train_y_hat</th>\n",
       "      <th>test_y_hat</th>\n",
       "      <th>test_y_real</th>\n",
       "      <th>mean_train_loss</th>\n",
       "      <th>mean_validation_loss</th>\n",
       "    </tr>\n",
       "  </thead>\n",
       "  <tbody>\n",
       "    <tr>\n",
       "      <th>3</th>\n",
       "      <td>3</td>\n",
       "      <td>0</td>\n",
       "      <td>300</td>\n",
       "      <td>0.001</td>\n",
       "      <td>60</td>\n",
       "      <td>64</td>\n",
       "      <td>64</td>\n",
       "      <td>[620.1121488298688, 41.09711304674191, 4.76758...</td>\n",
       "      <td>[217.22574064466687, 5.2187168738390834, 5.732...</td>\n",
       "      <td>[-31.37710952758789, -32.2651481628418, -29.76...</td>\n",
       "      <td>[-30.739700317382812, -32.27229690551758, -29....</td>\n",
       "      <td>[-32.05950164794922, -26.95046043395996, -29.2...</td>\n",
       "      <td>[-29.2078857421875, -26.24937629699707, -29.99...</td>\n",
       "      <td>3.331464</td>\n",
       "      <td>10.544759</td>\n",
       "    </tr>\n",
       "  </tbody>\n",
       "</table>\n",
       "</div>"
      ],
      "text/plain": [
       "   level_0  index num_epochs  learning_rates input_size hidden_size  \\\n",
       "3        3      0        300           0.001         60          64   \n",
       "\n",
       "  fc_layer_size                                       losses_train  \\\n",
       "3            64  [620.1121488298688, 41.09711304674191, 4.76758...   \n",
       "\n",
       "                                          losses_val  \\\n",
       "3  [217.22574064466687, 5.2187168738390834, 5.732...   \n",
       "\n",
       "                                        train_y_real  \\\n",
       "3  [-31.37710952758789, -32.2651481628418, -29.76...   \n",
       "\n",
       "                                         train_y_hat  \\\n",
       "3  [-30.739700317382812, -32.27229690551758, -29....   \n",
       "\n",
       "                                          test_y_hat  \\\n",
       "3  [-32.05950164794922, -26.95046043395996, -29.2...   \n",
       "\n",
       "                                         test_y_real  mean_train_loss  \\\n",
       "3  [-29.2078857421875, -26.24937629699707, -29.99...         3.331464   \n",
       "\n",
       "   mean_validation_loss  \n",
       "3             10.544759  "
      ]
     },
     "execution_count": 18,
     "metadata": {},
     "output_type": "execute_result"
    }
   ],
   "source": [
    "result.iloc[[3]]"
   ]
  },
  {
   "cell_type": "code",
   "execution_count": 29,
   "id": "da5f5671-bd60-4d08-be90-752fd79f14b4",
   "metadata": {},
   "outputs": [],
   "source": [
    "# result.iloc[[0]]['losses_train'].to_list()[0]"
   ]
  },
  {
   "cell_type": "code",
   "execution_count": 23,
   "id": "3057bda7-c6cc-440c-8b44-33c41b42c35e",
   "metadata": {},
   "outputs": [
    {
     "data": {
      "text/plain": [
       "[<matplotlib.lines.Line2D at 0x1d1ef48c340>]"
      ]
     },
     "execution_count": 23,
     "metadata": {},
     "output_type": "execute_result"
    },
    {
     "data": {
      "image/png": "[encoded data removed]",
      "text/plain": [
       "<Figure size 1296x864 with 1 Axes>"
      ]
     },
     "metadata": {
      "needs_background": "light"
     },
     "output_type": "display_data"
    }
   ],
   "source": [
    "x = result.iloc[[1]]['losses_train'].to_list()[0][1:]\n",
    "# x2 = result.iloc[[75]]['losses_val'].to_list()[0]\n",
    "plt.plot(x)"
   ]
  },
  {
   "cell_type": "markdown",
   "id": "adc04b6c-78e8-48ce-9d7f-a5f7229924f4",
   "metadata": {},
   "source": [
    "### Plot the y and y hat"
   ]
  },
  {
   "cell_type": "code",
   "execution_count": 20,
   "id": "b8f6fdf2-4bb3-416a-8434-f449745f14bf",
   "metadata": {},
   "outputs": [
    {
     "data": {
      "text/plain": [
       "[-29.2078857421875,\n",
       " -26.24937629699707,\n",
       " -29.995866775512695,\n",
       " -30.095863342285156,\n",
       " -32.07622528076172,\n",
       " -31.89113998413086,\n",
       " -29.868227005004883,\n",
       " -25.460962295532227,\n",
       " -26.685997009277344,\n",
       " -31.396814346313477,\n",
       " -28.895456314086914,\n",
       " -29.76964569091797]"
      ]
     },
     "execution_count": 20,
     "metadata": {},
     "output_type": "execute_result"
    }
   ],
   "source": [
    "real"
   ]
  },
  {
   "cell_type": "code",
   "execution_count": null,
   "id": "d4211cbf-eedf-4a20-b000-11ab640c96d0",
   "metadata": {},
   "outputs": [],
   "source": [
    "hat = result.iloc[[3]]['test_y_hat'].to_list()[0][:100]\n",
    "real = result.iloc[[3]]['test_y_real'].to_list()[0][:100]"
   ]
  },
  {
   "cell_type": "code",
   "execution_count": null,
   "id": "9c2d55f9-3e8e-4795-b3db-4384022b339b",
   "metadata": {},
   "outputs": [],
   "source": [
    "plot_y_hat_y_real(hat, real)"
   ]
  },
  {
   "cell_type": "markdown",
   "id": "551b3020-8a30-4194-96b9-5dcb1a5bcaa2",
   "metadata": {},
   "source": [
    "## Train y_hat and train y_real"
   ]
  },
  {
   "cell_type": "code",
   "execution_count": null,
   "id": "f879da6a-34a7-4222-b07e-9a70c6d5262d",
   "metadata": {},
   "outputs": [],
   "source": [
    "hat = result.iloc[[75]]['train_y_hat'].to_list()[0][:100]\n",
    "real = result.iloc[[75]]['train_y_real'].to_list()[0][:100]\n",
    "\n",
    "plot_y_hat_y_real(hat, real)"
   ]
  },
  {
   "cell_type": "code",
   "execution_count": null,
   "id": "bf3573d6-1f4e-4a51-aa64-f7d061ee97a4",
   "metadata": {},
   "outputs": [],
   "source": [
    "with open('grid_search_results2.pickle', 'rb') as handle:\n",
    "    result2 = pickle.load(handle)\n",
    "result2"
   ]
  },
  {
   "cell_type": "code",
   "execution_count": null,
   "id": "d7f7033c-6f15-42be-a6e5-6c6fce8bd0fa",
   "metadata": {},
   "outputs": [],
   "source": []
  }
 ],
 "metadata": {
  "kernelspec": {
   "display_name": "Python 3 (ipykernel)",
   "language": "python",
   "name": "python3"
  },
  "language_info": {
   "codemirror_mode": {
    "name": "ipython",
    "version": 3
   },
   "file_extension": ".py",
   "mimetype": "text/x-python",
   "name": "python",
   "nbconvert_exporter": "python",
   "pygments_lexer": "ipython3",
   "version": "3.8.12"
  }
 },
 "nbformat": 4,
 "nbformat_minor": 5
}
